{
 "cells": [
  {
   "cell_type": "markdown",
   "id": "4e81b25c",
   "metadata": {},
   "source": [
    "# DL4G - Jass Introduction\n",
    "\n",
    "In this exercise we will look at some properties of the jass kit environment that can be used to develop your own jass agent.\n",
    "\n",
    "You will need to have numpy installed, as well as the jass-kit environment."
   ]
  },
  {
   "cell_type": "code",
   "id": "0d71e284",
   "metadata": {
    "ExecuteTime": {
     "end_time": "2025-09-20T19:20:50.953774Z",
     "start_time": "2025-09-20T19:20:50.630186Z"
    }
   },
   "source": [
    "from jass.agents.agent import Agent\n",
    "from jass.agents.agent_random_schieber import AgentRandomSchieber\n",
    "from jass.arena.arena import Arena\n",
    "from jass.game.const import *\n",
    "from jass.game.game_observation import GameObservation\n",
    "from jass.game.game_sim import GameSim\n",
    "from jass.game.game_util import *\n",
    "from jass.game.rule_schieber import RuleSchieber\n"
   ],
   "outputs": [],
   "execution_count": 1
  },
  {
   "cell_type": "markdown",
   "id": "9d510b9e",
   "metadata": {},
   "source": [
    "Information about the cards is stored as one-hot encoded arrays, there are several tools available to access the information in the cards. \n",
    "\n",
    "Lets deal some random cards first."
   ]
  },
  {
   "cell_type": "code",
   "id": "19767850",
   "metadata": {
    "ExecuteTime": {
     "end_time": "2025-09-20T19:37:42.973898Z",
     "start_time": "2025-09-20T19:37:42.969551Z"
    }
   },
   "source": [
    "# Lets set the seed of the random number generater, so that we get the same results\n",
    "np.random.seed(1)\n",
    "\n",
    "# This distributes the cards randomly among the 4 players.\n",
    "hands = deal_random_hand()\n",
    "print(hands.shape)"
   ],
   "outputs": [
    {
     "name": "stdout",
     "output_type": "stream",
     "text": [
      "(4, 36)\n"
     ]
    }
   ],
   "execution_count": 13
  },
  {
   "cell_type": "code",
   "id": "dcd87887",
   "metadata": {
    "ExecuteTime": {
     "end_time": "2025-09-20T19:37:44.439670Z",
     "start_time": "2025-09-20T19:37:44.435153Z"
    }
   },
   "source": [
    "# There is an entry for each player, to access the cards of the first player\n",
    "cards = hands[0, :]\n",
    "print(cards)"
   ],
   "outputs": [
    {
     "name": "stdout",
     "output_type": "stream",
     "text": [
      "[0 0 0 1 0 0 0 0 0 0 0 0 0 0 0 0 0 1 0 1 0 1 0 1 0 0 0 0 1 1 1 0 0 0 1 0]\n"
     ]
    }
   ],
   "execution_count": 14
  },
  {
   "cell_type": "code",
   "id": "486c3664",
   "metadata": {
    "ExecuteTime": {
     "end_time": "2025-09-20T19:37:55.390995Z",
     "start_time": "2025-09-20T19:37:55.386991Z"
    }
   },
   "source": [
    "# This should be 9 cards\n",
    "assert (cards.sum() == 9)\n",
    "\n",
    "# The cards can be converted to other formats for easier reading or processing\n",
    "print(convert_one_hot_encoded_cards_to_str_encoded_list(cards))\n",
    "\n",
    "# Each card is encoded as a value between 0 and 35.\n",
    "print(convert_one_hot_encoded_cards_to_int_encoded_list(cards))\n"
   ],
   "outputs": [
    {
     "name": "stdout",
     "output_type": "stream",
     "text": [
      "[np.str_('DJ'), np.str_('H6'), np.str_('SK'), np.str_('SJ'), np.str_('S9'), np.str_('CK'), np.str_('CQ'), np.str_('CJ'), np.str_('C7')]\n",
      "[3, 17, 19, 21, 23, 28, 29, 30, 34]\n"
     ]
    }
   ],
   "execution_count": 15
  },
  {
   "cell_type": "code",
   "id": "89294107",
   "metadata": {
    "ExecuteTime": {
     "end_time": "2025-09-20T19:22:18.156902Z",
     "start_time": "2025-09-20T19:22:18.152639Z"
    }
   },
   "source": [
    "# There is a method to count colors too\n",
    "colors = count_colors(cards)\n",
    "print(colors)"
   ],
   "outputs": [
    {
     "name": "stdout",
     "output_type": "stream",
     "text": [
      "[1 1 3 4]\n"
     ]
    }
   ],
   "execution_count": 5
  },
  {
   "cell_type": "markdown",
   "id": "04f591d7",
   "metadata": {},
   "source": [
    "There is a common jass \"rule\" to select trump, when you have the \"Puur\" (Jack of trump) and 3 or more other cards of the same color. \n",
    "\n",
    "Task 1: Write a function that returns an array of 4 values that contains a 1 for each color that fulfills the rule or 0 otherwise, i.e. [0 0 0 0] is returned, if you do not have any color with Jack and 3 other cards.\n"
   ]
  },
  {
   "cell_type": "code",
   "id": "92845f51",
   "metadata": {
    "ExecuteTime": {
     "end_time": "2025-09-20T19:22:32.275648Z",
     "start_time": "2025-09-20T19:22:32.272160Z"
    }
   },
   "source": [
    "def havePuurWithFour(hand: np.ndarray) -> np.ndarray:\n",
    "    result = np.zeros(4, dtype=int)\n",
    "    # add your code here\n",
    "\n",
    "    return result\n"
   ],
   "outputs": [],
   "execution_count": 8
  },
  {
   "cell_type": "code",
   "id": "b1bb875a",
   "metadata": {
    "ExecuteTime": {
     "end_time": "2025-09-20T19:22:34.028417Z",
     "start_time": "2025-09-20T19:22:34.012398Z"
    }
   },
   "source": [
    "assert (havePuurWithFour(cards) == [0, 0, 0, 1]).all()\n",
    "cards_2 = hands[1, :]\n",
    "assert (havePuurWithFour(cards_2) == [0, 0, 0, 0]).all()"
   ],
   "outputs": [
    {
     "ename": "AssertionError",
     "evalue": "",
     "output_type": "error",
     "traceback": [
      "\u001B[31m---------------------------------------------------------------------------\u001B[39m",
      "\u001B[31mAssertionError\u001B[39m                            Traceback (most recent call last)",
      "\u001B[36mCell\u001B[39m\u001B[36m \u001B[39m\u001B[32mIn[9]\u001B[39m\u001B[32m, line 1\u001B[39m\n\u001B[32m----> \u001B[39m\u001B[32m1\u001B[39m \u001B[38;5;28;01massert\u001B[39;00m (havePuurWithFour(cards) == [\u001B[32m0\u001B[39m, \u001B[32m0\u001B[39m, \u001B[32m0\u001B[39m, \u001B[32m1\u001B[39m]).all()\n\u001B[32m      2\u001B[39m cards_2 = hands[\u001B[32m1\u001B[39m,:]\n\u001B[32m      3\u001B[39m \u001B[38;5;28;01massert\u001B[39;00m (havePuurWithFour(cards_2) == [\u001B[32m0\u001B[39m, \u001B[32m0\u001B[39m, \u001B[32m0\u001B[39m, \u001B[32m0\u001B[39m]).all()\n",
      "\u001B[31mAssertionError\u001B[39m: "
     ]
    }
   ],
   "execution_count": 9
  },
  {
   "cell_type": "markdown",
   "id": "48371ec4",
   "metadata": {},
   "source": [
    "Another possibility to select trump is by assigning a value to each card, depending on whether the color is trump or not. This table is from the Maturawork of Daniel Graf from 2009: \"Jassen auf Basis der Spieltheorie\"."
   ]
  },
  {
   "cell_type": "code",
   "id": "01b078f3",
   "metadata": {
    "ExecuteTime": {
     "end_time": "2025-09-20T19:22:56.544173Z",
     "start_time": "2025-09-20T19:22:56.540173Z"
    }
   },
   "source": [
    "# Score for each card of a color from Ace to 6\n",
    "\n",
    "# score if the color is trump\n",
    "trump_score = [15, 10, 7, 25, 6, 19, 5, 5, 5]\n",
    "# score if the color is not trump\n",
    "no_trump_score = [9, 7, 5, 2, 1, 0, 0, 0, 0]\n",
    "# score if obenabe is selected (all colors)\n",
    "obenabe_score = [14, 10, 8, 7, 5, 0, 5, 0, 0, ]\n",
    "# score if uneufe is selected (all colors)\n",
    "uneufe_score = [0, 2, 1, 1, 5, 5, 7, 9, 11]"
   ],
   "outputs": [],
   "execution_count": 10
  },
  {
   "cell_type": "markdown",
   "id": "ddd00b63",
   "metadata": {},
   "source": [
    "Task 2: Implement a function that evaluates a hand that is given as a list of 9 cards and with a given trump value and returns a score depending on the table above. For example the score of our hand ['DJ', 'H6', 'SK', 'SJ', 'S9', 'CK', 'CQ', 'CJ', 'C7'] when Club is trump should be:\n",
    "\n",
    "2 + 0 + 7 + 2 + 0 + 10 + 7 + 25 + 5 = 58\n",
    "\n",
    "while the score is 70 if Spade is selected, which is better as you have both the jack and the nine.\n",
    "\n",
    "You can use the arrays offset_of_card and color_of_card to get the offset (Ace, King, etc.) and color of a card."
   ]
  },
  {
   "cell_type": "code",
   "id": "63297245",
   "metadata": {
    "ExecuteTime": {
     "end_time": "2025-09-20T19:59:07.106270Z",
     "start_time": "2025-09-20T19:59:07.101866Z"
    }
   },
   "source": [
    "\n",
    "def calculate_trump_selection_score(cards, trump: int) -> int:\n",
    "    score = 0\n",
    "    for card in cards:\n",
    "        color = \"\"\n",
    "        if card < 9:\n",
    "            color = DIAMONDS\n",
    "        elif card >= 9 & card < 18:\n",
    "            color = HEARTS\n",
    "        elif card >= 18 & card < 27:\n",
    "            color = SPADES\n",
    "        elif card >= 27 & card < 36:\n",
    "            color = CLUBS\n",
    "\n",
    "        if color == trump:\n",
    "            score += trump_score[card % 9]\n",
    "        elif trump == UNE_UFE:\n",
    "            score += uneufe_score[card % 9]\n",
    "        elif trump == OBE_ABE:\n",
    "            score += obenabe_score[card % 9]\n",
    "        else:\n",
    "            score += no_trump_score[card % 9]\n",
    "\n",
    "    return score\n",
    "\n",
    "\n"
   ],
   "outputs": [],
   "execution_count": 47
  },
  {
   "cell_type": "code",
   "id": "0ae55a9d",
   "metadata": {
    "ExecuteTime": {
     "end_time": "2025-09-20T19:59:08.674494Z",
     "start_time": "2025-09-20T19:59:08.669987Z"
    }
   },
   "source": [
    "cards_int = convert_one_hot_encoded_cards_to_int_encoded_list(cards)\n",
    "print(calculate_trump_selection_score(cards_int, CLUBS))\n",
    "print(calculate_trump_selection_score(cards_int, SPADES))\n",
    "print(calculate_trump_selection_score(cards_int, DIAMONDS))\n",
    "print(calculate_trump_selection_score(cards_int, HEARTS))\n",
    "print(calculate_trump_selection_score(cards_int, OBE_ABE))\n",
    "print(calculate_trump_selection_score(cards_int, UNE_UFE))"
   ],
   "outputs": [
    {
     "name": "stdout",
     "output_type": "stream",
     "text": [
      "25\n",
      "25\n",
      "48\n",
      "108\n",
      "49\n",
      "33\n"
     ]
    }
   ],
   "execution_count": 48
  },
  {
   "cell_type": "markdown",
   "id": "4ec0d316",
   "metadata": {},
   "source": [
    "## Agents\n",
    "\n",
    "In order to play a game you have to program an agent that decides on the action. For that you have to override the methods action_trump and action_play_card.\n",
    "\n",
    "Task 3: Use the function implemented above to select the best trump value. If the calculated trump value is below a threshold (for example let us take 68, as suggested in the work by Daniel Graf) you should \"Schiebe\", i.e. pass to your partner if you are still allowed to do that.\n",
    "\n",
    "The game observation allows you to access the information about your card, and if you are the first or second player to select trump.\n",
    "\n",
    "For playing a card, we just take a random action."
   ]
  },
  {
   "cell_type": "code",
   "id": "2c8a0c7e",
   "metadata": {
    "ExecuteTime": {
     "end_time": "2025-09-20T20:16:17.464480Z",
     "start_time": "2025-09-20T20:16:17.459005Z"
    }
   },
   "source": [
    "class MyAgent(Agent):\n",
    "    def __init__(self):\n",
    "        super().__init__()\n",
    "        # we need a rule object to determine the valid cards\n",
    "        self._rule = RuleSchieber()\n",
    "\n",
    "    def action_trump(self, observation: GameObservation) -> int:\n",
    "        \"\"\"\n",
    "        Determine trump action for the given observation\n",
    "        Args:\n",
    "            observation: the game observation, it must be in a state for trump selection\n",
    "\n",
    "        Returns:\n",
    "            selected trump as encoded in jass.game.const or jass.game.const.PUSH\n",
    "        \"\"\"\n",
    "        # add your code here using the function above\n",
    "\n",
    "        hand_int = convert_one_hot_encoded_cards_to_int_encoded_list(observation.hand)\n",
    "        trump_scores = {\n",
    "            CLUBS: calculate_trump_selection_score(hand_int, CLUBS),\n",
    "            SPADES: calculate_trump_selection_score(hand_int, SPADES),\n",
    "            DIAMONDS: calculate_trump_selection_score(hand_int, DIAMONDS),\n",
    "            HEARTS: calculate_trump_selection_score(hand_int, HEARTS),\n",
    "            OBE_ABE: calculate_trump_selection_score(hand_int, OBE_ABE),\n",
    "            UNE_UFE: calculate_trump_selection_score(hand_int, UNE_UFE)\n",
    "        }\n",
    "\n",
    "        max_score_trump_type = max(trump_scores, key=trump_scores.get)\n",
    "        max_score = trump_scores[max_score_trump_type]\n",
    "\n",
    "        if observation.forehand == 1 & max_score < 68:\n",
    "            return PUSH\n",
    "        else:\n",
    "            return max_score_trump_type\n",
    "\n",
    "    def action_play_card(self, observation: GameObservation) -> int:\n",
    "        \"\"\"\n",
    "        Determine the card to play.\n",
    "\n",
    "        Args:\n",
    "            observation: the game observation\n",
    "\n",
    "        Returns:\n",
    "            the card to play, int encoded as defined in jass.game.const\n",
    "        \"\"\"\n",
    "        valid_cards = self._rule.get_valid_cards_from_obs(observation)\n",
    "        # we use the global random number generator here\n",
    "        return np.random.choice(np.flatnonzero(valid_cards))\n",
    "\n"
   ],
   "outputs": [],
   "execution_count": 71
  },
  {
   "cell_type": "markdown",
   "id": "1f5b305a",
   "metadata": {},
   "source": [
    "We can use the game simulation to play a game. We will use that to test our implementation, and then use the arena class to play against other agents"
   ]
  },
  {
   "cell_type": "code",
   "id": "91df4f83",
   "metadata": {
    "ExecuteTime": {
     "end_time": "2025-09-20T20:16:19.719498Z",
     "start_time": "2025-09-20T20:16:19.716168Z"
    }
   },
   "source": [
    "rule = RuleSchieber()\n",
    "game = GameSim(rule=rule)\n",
    "agent = MyAgent()\n",
    "\n",
    "np.random.seed(1)\n",
    "game.init_from_cards(hands=deal_random_hand(), dealer=NORTH)"
   ],
   "outputs": [],
   "execution_count": 72
  },
  {
   "cell_type": "code",
   "id": "1f177a07",
   "metadata": {
    "ExecuteTime": {
     "end_time": "2025-09-20T20:16:21.203340Z",
     "start_time": "2025-09-20T20:16:21.199934Z"
    }
   },
   "source": [
    "obs = game.get_observation()"
   ],
   "outputs": [],
   "execution_count": 73
  },
  {
   "cell_type": "code",
   "id": "768c5cce",
   "metadata": {
    "ExecuteTime": {
     "end_time": "2025-09-20T20:16:23.017981Z",
     "start_time": "2025-09-20T20:16:23.014472Z"
    }
   },
   "source": [
    "cards = convert_one_hot_encoded_cards_to_str_encoded_list(obs.hand)\n",
    "print(cards)\n",
    "trump = agent.action_trump(obs)\n",
    "assert trump == HEARTS"
   ],
   "outputs": [
    {
     "name": "stdout",
     "output_type": "stream",
     "text": [
      "[np.str_('DA'), np.str_('DK'), np.str_('D9'), np.str_('D6'), np.str_('HA'), np.str_('HQ'), np.str_('HJ'), np.str_('H8'), np.str_('H7')]\n"
     ]
    }
   ],
   "execution_count": 74
  },
  {
   "cell_type": "code",
   "id": "9ccc8b9e",
   "metadata": {
    "ExecuteTime": {
     "end_time": "2025-09-20T20:16:24.664319Z",
     "start_time": "2025-09-20T20:16:24.661437Z"
    }
   },
   "source": [
    "# tell the simulation the selected trump\n",
    "game.action_trump(trump)"
   ],
   "outputs": [],
   "execution_count": 75
  },
  {
   "cell_type": "code",
   "id": "eb8c2956",
   "metadata": {
    "ExecuteTime": {
     "end_time": "2025-09-20T20:16:26.167708Z",
     "start_time": "2025-09-20T20:16:26.162708Z"
    }
   },
   "source": [
    "# play the game to the end and print the result\n",
    "while not game.is_done():\n",
    "    game.action_play_card(agent.action_play_card(game.get_observation()))\n",
    "\n",
    "print(game.state.points)"
   ],
   "outputs": [
    {
     "name": "stdout",
     "output_type": "stream",
     "text": [
      "[ 10 147]\n"
     ]
    }
   ],
   "execution_count": 76
  },
  {
   "cell_type": "markdown",
   "id": "b33d069e",
   "metadata": {},
   "source": [
    "Another possibility to test agents locally is to use the arena. Let us play 100 games against the Random Agent and see if our trump methods makes any difference.\n"
   ]
  },
  {
   "cell_type": "code",
   "id": "07c99989",
   "metadata": {
    "ExecuteTime": {
     "end_time": "2025-09-20T20:17:33.316486Z",
     "start_time": "2025-09-20T20:17:33.312487Z"
    }
   },
   "source": [
    "arena = Arena(nr_games_to_play=100)\n",
    "arena.set_players(MyAgent(), AgentRandomSchieber(), MyAgent(), AgentRandomSchieber())"
   ],
   "outputs": [],
   "execution_count": 85
  },
  {
   "cell_type": "code",
   "id": "ba8464b5",
   "metadata": {
    "ExecuteTime": {
     "end_time": "2025-09-20T20:17:36.550412Z",
     "start_time": "2025-09-20T20:17:36.296305Z"
    }
   },
   "source": [
    "arena.play_all_games()"
   ],
   "outputs": [
    {
     "name": "stdout",
     "output_type": "stream",
     "text": [
      "[........................................]  100/ 100 games played\n"
     ]
    }
   ],
   "execution_count": 86
  },
  {
   "cell_type": "code",
   "id": "05179929",
   "metadata": {
    "ExecuteTime": {
     "end_time": "2025-09-20T20:16:54.295096Z",
     "start_time": "2025-09-20T20:16:54.291647Z"
    }
   },
   "source": [
    "print(arena.points_team_0.sum(), arena.points_team_1.sum())"
   ],
   "outputs": [
    {
     "name": "stdout",
     "output_type": "stream",
     "text": [
      "8474.0 7226.0\n"
     ]
    }
   ],
   "execution_count": 82
  },
  {
   "cell_type": "markdown",
   "id": "dd500485",
   "metadata": {},
   "source": [
    "Now you can continue with a rule based implemenation of the card play. Also look at the flask implementation of the service to see how you can get your agent online."
   ]
  }
 ],
 "metadata": {
  "kernelspec": {
   "display_name": "Python 3 (ipykernel)",
   "language": "python",
   "name": "python3"
  },
  "language_info": {
   "codemirror_mode": {
    "name": "ipython",
    "version": 3
   },
   "file_extension": ".py",
   "mimetype": "text/x-python",
   "name": "python",
   "nbconvert_exporter": "python",
   "pygments_lexer": "ipython3",
   "version": "3.8.5"
  }
 },
 "nbformat": 4,
 "nbformat_minor": 5
}
